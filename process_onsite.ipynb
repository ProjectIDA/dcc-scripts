{
 "cells": [
  {
   "cell_type": "code",
   "execution_count": 7,
   "metadata": {
    "collapsed": true
   },
   "outputs": [],
   "source": [
    "import os\n",
    "from ida.calibration.absolute import *\n",
    "from ida.signals.utils import *\n",
    "%matplotlib inline\n",
    "import matplotlib.pyplot as plt"
   ]
  },
  {
   "cell_type": "code",
   "execution_count": 2,
   "metadata": {
    "collapsed": false
   },
   "outputs": [],
   "source": [
    "cfg = AbsOnsiteConfig('process_onsite.yaml')"
   ]
  },
  {
   "cell_type": "code",
   "execution_count": 3,
   "metadata": {
    "collapsed": true
   },
   "outputs": [],
   "source": [
    "cfg.read_ref_data()"
   ]
  },
  {
   "cell_type": "code",
   "execution_count": 4,
   "metadata": {
    "collapsed": false,
    "scrolled": true
   },
   "outputs": [
    {
     "name": "stdout",
     "output_type": "stream",
     "text": [
      "Retrieving primary sensor data for absolute period...\n",
      "Retrieving secondary sensor data for absolute period...\n"
     ]
    }
   ],
   "source": [
    "cfg.read_sensor_data()"
   ]
  },
  {
   "cell_type": "code",
   "execution_count": null,
   "metadata": {
    "collapsed": false,
    "scrolled": false
   },
   "outputs": [],
   "source": [
    "# sec_abs_z = cfg._sec_abs_strm.select(component='Z').copy()\n",
    "# ref_abs_z = cfg._ref_abs_strm.select(component='Z').copy()\n",
    "# # sec_sens_z.plot()\n",
    "# # ref_z.plot()\n",
    "# dur = sec_abs_z[0].stats.endtime - sec_abs_z[0].stats.starttime\n",
    "# start_t =  sec_abs_z[0].stats.starttime + dur/2 - cfg.correlation_segment_size/2\n",
    "# end_t = start_t + cfg.correlation_segment_size\n",
    "# sec_abs_z.filter('bandpass', freqmin=0.1, freqmax=1.0)\n",
    "# sec_abs_z.normalize()\n",
    "# sec_abs_z.trim(starttime=start_t, endtime=end_t)\n",
    "# # sec_abs_z.plot()\n",
    "# ref_abs_z.filter('bandpass', freqmin=0.1, freqmax=1.0)\n",
    "# ref_abs_z.normalize()\n",
    "# ref_abs_z.trim(starttime=start_t, endtime=end_t)\n",
    "# # ref_z.plot()\n",
    "# # print(sec_sens_z, ref_abs_z)"
   ]
  },
  {
   "cell_type": "code",
   "execution_count": null,
   "metadata": {
    "collapsed": false,
    "scrolled": true
   },
   "outputs": [],
   "source": [
    "# moffset, mcval, mcfunc, memsg = time_offset(sec_abs_z[0], ref_abs_z[0])\n",
    "# print(moffset, mcval)\n",
    "# plt.plot(mcfunc)"
   ]
  },
  {
   "cell_type": "code",
   "execution_count": 8,
   "metadata": {
    "collapsed": false
   },
   "outputs": [
    {
     "name": "stdout",
     "output_type": "stream",
     "text": [
      "2016-09-05T16:49:59.994539Z 2016-09-05T18:49:59.994539Z\n",
      "0.0 0.9994280186515678\n",
      "1 Trace(s) in Stream:\n",
      "II.TRI.30.BHZ | 2016-09-05T16:50:00.000000Z - 2016-09-05T18:50:00.000000Z | 40.0 Hz, 288001 samples\n",
      "1 Trace(s) in Stream:\n",
      "II.KAPI.10.BHZ | 2016-09-05T16:49:59.994539Z - 2016-09-05T18:49:59.994539Z | 40.0 Hz, 288001 samples\n"
     ]
    },
    {
     "data": {
      "image/png": "[encoded data removed]",
      "text/plain": [
       "<matplotlib.figure.Figure at 0x7f6a610c95c0>"
      ]
     },
     "metadata": {},
     "output_type": "display_data"
    }
   ],
   "source": [
    "offset, cval, cfunc, emsg = cfg.correct_ref_abs_time()\n",
    "print(offset, cval)\n",
    "plt.plot(cfunc)\n",
    "print(cfg.ref_z)\n",
    "print(cfg.sensor_z)"
   ]
  },
  {
   "cell_type": "code",
   "execution_count": null,
   "metadata": {
    "collapsed": false
   },
   "outputs": [],
   "source": [
    "cfg.ref_z.plot()\n",
    "ref_z = cfg.ref_z.copy()\n",
    "ref_z.filter('bandpass', freqmin=0.1, freqmax=1.0)\n",
    "ref_z.normalize()\n",
    "ref_z.plot()\n",
    "cfg.sensor_z.plot()\n",
    "sensor_z = cfg.sensor_z.copy()\n",
    "sensor_z.filter('bandpass', freqmin=0.1, freqmax=1.0)\n",
    "sensor_z.normalize()\n",
    "sensor_z.plot()"
   ]
  }
 ],
 "metadata": {
  "kernelspec": {
   "display_name": "Python 3",
   "language": "python",
   "name": "python3"
  },
  "language_info": {
   "codemirror_mode": {
    "name": "ipython",
    "version": 3
   },
   "file_extension": ".py",
   "mimetype": "text/x-python",
   "name": "python",
   "nbconvert_exporter": "python",
   "pygments_lexer": "ipython3",
   "version": "3.5.1"
  }
 },
 "nbformat": 4,
 "nbformat_minor": 0
}
